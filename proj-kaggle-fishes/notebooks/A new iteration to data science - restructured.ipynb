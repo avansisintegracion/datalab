{
 "cells": [
  {
   "cell_type": "markdown",
   "metadata": {},
   "source": [
    "# The starting point"
   ]
  },
  {
   "cell_type": "markdown",
   "metadata": {},
   "source": [
    "In this blog post and the following one, we will relate our experience on learning image classification. We took a kaggle competition as a trial project to help us acquire an experience in real world data issues without too much hassle on cleaning and getting the data. The objective of this competition is to contribute to fisheries monitoring by finding the best algorithm classifying into seven species pictures catched from fishing boats. For more details about the rules, please refer to [kaggle website](https://www.kaggle.com/c/the-nature-conservancy-fisheries-monitoring).\n",
    "\n",
    "We are two freshly recruited data scientists with know hows about : coding, statistics and the constrains of real life data project. Both of us have an affinity with unix environments, experience in python programming language and a hunch of geek culture to often use the shell instead of a trackpad. Another common characteristic is that we both have a PhD in quantitative disciple. During this experience, we carried out our own research project with autonomy and perseverance in order to obtain original results and experience with long term project management.\n",
    "\n",
    "On our definition of data scientist. Data scientist can have rather broad definitions. In our view it is someone who can handle a data oriented project in its entirety. It should comprise the overlapping of three distinct domains: the skills of a statistician who knows how to model and summarize datasets; the skills of a computer scientist who can design and use algorithms to efficiently store, process, and visualize this data; and the scientific perspective to ask the right questions and to put their answers in context. Most common tasks of a data scientist include project conception, tidying and exploring raw data, develop meaningful analysis, extract knowledge and information and communication an interesting and informative story. (This includes but is not limited to : project conception, data exploration/prep, developping meaningful analysis, extract knowledge not only information...) \n",
    "\n",
    "A consequence of the competition [NDA](https://kaggle2.blob.core.windows.net/competitions/kaggle/5568/media/Competition%20Governing%20NDA%20110816.pdf), we can not share the pictures. The training dataset is divided in different categories with several annotated species with two extra classes : no fishes or other (whales, ...). The pictures are wide field shots from the several boats encompassing variations such as : day/night, multiplicity of fishes per picture, large fields of boat features,...\n",
    "\n",
    "In the following sections you will find a summary of our discovery of image analysis and classification as close as possible to how we lived the experience."
   ]
  },
  {
   "cell_type": "markdown",
   "metadata": {},
   "source": [
    "# A naive approach"
   ]
  },
  {
   "cell_type": "markdown",
   "metadata": {},
   "source": [
    "Among the first things we did was to follow approaches that were described for image classifications. Many described deep learning as the way to go, but having no prior experience with image classification we also wanted to understand what and how to extract features from images. In this respect we tested the bag of features approach described in this [ebook](https://www.packtpub.com/big-data-and-business-intelligence/building-machine-learning-systems-python), you can find a general description of the approach on [Wikipedia](https://en.wikipedia.org/wiki/Bag-of-words_model_in_computer_vision) and the following figure reflects our approach.\n",
    "\n",
    "![](images/bag_of_features.svg)\n",
    "\n",
    "The results were at first very encouraging, we trained on randomly split images and as you can see in the previous figure, section C, the logloss score was not bad. We then realised the breadth of what we have to learn when we faced the results on the leader board. This huge shift in the score meant that we did not understand the dataset correctly thus we went on to design a more complete approach."
   ]
  },
  {
   "cell_type": "markdown",
   "metadata": {},
   "source": [
    "# Strategy"
   ]
  },
  {
   "cell_type": "markdown",
   "metadata": {},
   "source": [
    "## Diagram"
   ]
  },
  {
   "cell_type": "markdown",
   "metadata": {},
   "source": [
    "We decided to reduce the noise of the our pictures. \n",
    "We got inspired from from [previous kaggle competitions](https://deepsense.io/deep-learning-right-whale-recognition-kaggle/) of similar objetive.\n",
    "The main idea was to train a model to obtain the coordinates of the bounding box containing a fish. \n",
    "The approach is schematized in the figure below .\n",
    "We decided to do this by training a CNN model inspired by the [deep learning courses of fast.io](https://github.com/fastai/courses/blob/master/deeplearning1/nbs/lesson7.ipynb).\n",
    "The model was adapted to obtain additionaly a classification of the picture to know if it contains a fish or not. \n",
    "Depending if the model predicts a fish in the image, it is crop or not."
   ]
  },
  {
   "cell_type": "code",
   "execution_count": 7,
   "metadata": {},
   "outputs": [
    {
     "data": {
      "text/html": [
       "<img src=\"./images/schema.png\">"
      ],
      "text/plain": [
       "<IPython.core.display.HTML object>"
      ]
     },
     "metadata": {},
     "output_type": "display_data"
    }
   ],
   "source": [
    "%%HTML\n",
    "<img src=\"./images/schema.png\">"
   ]
  },
  {
   "cell_type": "markdown",
   "metadata": {},
   "source": [
    "![schema](images/schema.svg)"
   ]
  },
  {
   "cell_type": "markdown",
   "metadata": {},
   "source": [
    "# Workflow"
   ]
  },
  {
   "cell_type": "markdown",
   "metadata": {},
   "source": [
    "* [Cookiecutter](https://github.com/audreyr/cookiecutter) is a tool for creating projects from cookiecutters (project templates). Propose for different kind of projects  [Cookiecutter for data science](http://drivendata.github.io/cookiecutter-data-science/)\n",
    "\n",
    "    *    Collaborate more easily with you on this analysis\n",
    "    *    Learn from your analysis about the process and the domain\n",
    "    *    Feel confident in the conclusions at which the analysis arrives\n",
    "\n",
    "* Git repository\n",
    "* Package structure "
   ]
  },
  {
   "cell_type": "markdown",
   "metadata": {},
   "source": [
    "# Conclusion part 1"
   ]
  },
  {
   "cell_type": "markdown",
   "metadata": {},
   "source": [
    "# Limitations of bag of features approach"
   ]
  },
  {
   "cell_type": "markdown",
   "metadata": {},
   "source": [
    "# Strength of deep learning"
   ]
  },
  {
   "cell_type": "markdown",
   "metadata": {},
   "source": [
    "# Conclusion & perspective"
   ]
  }
 ],
 "metadata": {
  "kernelspec": {
   "display_name": "Python 3",
   "language": "python",
   "name": "python3"
  },
  "language_info": {
   "codemirror_mode": {
    "name": "ipython",
    "version": 3
   },
   "file_extension": ".py",
   "mimetype": "text/x-python",
   "name": "python",
   "nbconvert_exporter": "python",
   "pygments_lexer": "ipython3",
   "version": "3.6.0"
  }
 },
 "nbformat": 4,
 "nbformat_minor": 1
}
