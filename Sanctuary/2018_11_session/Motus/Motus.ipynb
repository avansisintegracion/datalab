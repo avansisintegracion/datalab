{
 "cells": [
  {
   "cell_type": "code",
   "execution_count": 1,
   "metadata": {},
   "outputs": [],
   "source": [
    "# -*- coding: utf-8 -*-\n",
    "import pandas as pd\n",
    "import random"
   ]
  },
  {
   "cell_type": "code",
   "execution_count": 2,
   "metadata": {},
   "outputs": [],
   "source": [
    "#Chargement du dictionnaire français\n",
    "dictionnaire = pd.read_csv('liste.de.mots.francais.frgut.txt', sep=\"\\n\")"
   ]
  },
  {
   "cell_type": "code",
   "execution_count": 3,
   "metadata": {},
   "outputs": [],
   "source": [
    "def create_dictionnary(dico):\n",
    "    \"\"\"\n",
    "    Fonction qui crée un dictionnaire dont les clés sont le nombre de lettres et les valeurs sont des listes de \n",
    "    mots contenant ce nombre de lettres.\n",
    "    Args\n",
    "         dico (List) : liste des mots francais\n",
    "    Output\n",
    "         dic (Dict) : dictionnaire décrit plus haut \n",
    "    \"\"\"\n",
    "    dic = {}\n",
    "    for word in dictionnaire['a']:\n",
    "        if len(word) not in dic.keys():\n",
    "            dic[len(word)]=[word]\n",
    "        else:\n",
    "            dic[len(word)].append(word)\n",
    "    return dic"
   ]
  },
  {
   "cell_type": "code",
   "execution_count": 4,
   "metadata": {},
   "outputs": [],
   "source": [
    "def generate_word(n,dico):\n",
    "    \"\"\"\n",
    "    Fonction qui génère le premier mot d'un partie : une liste de lettres ou de tirets. La première lettre\n",
    "    est systèmatiquement donnée et deux autres sont données au hasard.\n",
    "    Args\n",
    "         n (int) : nombre de lettres choisi\n",
    "         dico (List) : dictionnaire nombre de lettres/mots francais\n",
    "    Output\n",
    "         line_show (List) : mot initial de la partie présenté au joueur (sous forme de liste de lettres et tirets)\n",
    "         proposition (String) : mot initial conservé pour l'évaluation\n",
    "    \"\"\"\n",
    "    possible_words = dico[n]\n",
    "    proposition = random.choice(possible_words)\n",
    "    line_show = []\n",
    "    index_display = [0]\n",
    "    others = random.sample(range(1,len(proposition)),2)\n",
    "    index_display.extend(others)\n",
    "    for ind in range(len(proposition)):\n",
    "        if ind in index_display:\n",
    "            line_show.append(proposition[ind])\n",
    "        else:\n",
    "            line_show.append('_')\n",
    "    print(line_show)\n",
    "    return line_show, proposition"
   ]
  },
  {
   "cell_type": "code",
   "execution_count": 18,
   "metadata": {},
   "outputs": [],
   "source": [
    "def check_proposition(player_try, real_word, nb_try, state):\n",
    "    \"\"\"\n",
    "    Fonction qui compare une proposition du joueur avec le mot recherché pour mettre à jour le tableau de jeu.\n",
    "    Args\n",
    "         player_try (String) : proposition de mot du joueur\n",
    "         real_word (String) : mot recherché conservé par le maître du jeu\n",
    "         nb_try (int) : nombre d'essais\n",
    "         state (String) : Etat du jeu\n",
    "    Output\n",
    "         updated_try (List) : ligne mise à jour du tableau sous forme de liste d'état pour chaque lettre\n",
    "         nb_try (int) : nombre d'essais\n",
    "         state (String) : Etat du jeu\n",
    "    \"\"\"\n",
    "    updated_try = []\n",
    "    if nb_try<=8:\n",
    "        if len(player_try)==8:\n",
    "            if player_try==real_word:\n",
    "                state=\"win\"\n",
    "            for ind in range(len(player_try)):\n",
    "                letter_state = {}\n",
    "                letter_state['letter']=player_try[ind]\n",
    "                if real_word[ind]==player_try[ind]:\n",
    "                    letter_state['state']='red'\n",
    "                elif player_try[ind] in real_word:\n",
    "                    letter_state['state']=\"yellow\"\n",
    "                else:\n",
    "                    letter_state['state']='white'\n",
    "                updated_try.append(letter_state)\n",
    "            nb_try = nb_try+1\n",
    "        else:\n",
    "            print('YOU LOOSE : the word does not have 8 letters')\n",
    "            state='lost'\n",
    "    else:\n",
    "        print('YOU LOOSE : you ran out of tries')\n",
    "        state='lost'\n",
    "    return updated_try, nb_try, state\n"
   ]
  },
  {
   "cell_type": "code",
   "execution_count": 21,
   "metadata": {},
   "outputs": [],
   "source": [
    "def game_master(dico):\n",
    "    \"\"\"\n",
    "    Fonction maître du jeu : un mot est généré en début de partie, et tant que le nombre d'essais ne dépasse pas 8,\n",
    "    le joueur fait des propositions de mots et recoit un tableau mis à jour. Si le joueur propose un mot qui ne \n",
    "    contient pas 8 lettres, il perd.\n",
    "    Args\n",
    "         dico (Dict) : dictionnaire nombre de lettres/mots francais\n",
    "    \"\"\"\n",
    "    state=\"playing\"\n",
    "    nb_try=0\n",
    "    table = []\n",
    "    word_show, real_word = generate_word(8, dico)\n",
    "    table.append(word_show)\n",
    "    while state==\"playing\":\n",
    "        print(\"Il vous reste \"+str(8-nb_try)+\" essais !\")\n",
    "        print('try a word !')\n",
    "        player_try = input()\n",
    "        updated_try, nb_try, state = check_proposition(player_try, real_word, nb_try, state)\n",
    "        table.append(updated_try)\n",
    "        print(table)\n",
    "    if state=='win':\n",
    "        print(\"YOU WIN !\")\n",
    "    elif state=='lost':\n",
    "        print(\"YOU LOOSE !\")\n",
    "    \n",
    "    "
   ]
  },
  {
   "cell_type": "code",
   "execution_count": 22,
   "metadata": {},
   "outputs": [
    {
     "name": "stdout",
     "output_type": "stream",
     "text": [
      "['s', 'u', 't', '_', '_', '_', '_', '_']\n",
      "Il vous reste 8 essais !\n",
      "try a word !\n",
      "suthdjrg\n",
      "[['s', 'u', 't', '_', '_', '_', '_', '_'], [{'letter': 's', 'state': 'red'}, {'letter': 'u', 'state': 'red'}, {'letter': 't', 'state': 'red'}, {'letter': 'h', 'state': 'white'}, {'letter': 'd', 'state': 'white'}, {'letter': 'j', 'state': 'white'}, {'letter': 'r', 'state': 'yellow'}, {'letter': 'g', 'state': 'white'}]]\n",
      "Il vous reste 7 essais !\n",
      "try a word !\n",
      "fqs\n",
      "YOU LOOSE : the word does not have 8 letters\n",
      "[['s', 'u', 't', '_', '_', '_', '_', '_'], [{'letter': 's', 'state': 'red'}, {'letter': 'u', 'state': 'red'}, {'letter': 't', 'state': 'red'}, {'letter': 'h', 'state': 'white'}, {'letter': 'd', 'state': 'white'}, {'letter': 'j', 'state': 'white'}, {'letter': 'r', 'state': 'yellow'}, {'letter': 'g', 'state': 'white'}], []]\n",
      "YOU LOOSE !\n"
     ]
    }
   ],
   "source": [
    "game_master(dic)"
   ]
  },
  {
   "cell_type": "code",
   "execution_count": null,
   "metadata": {},
   "outputs": [],
   "source": []
  }
 ],
 "metadata": {
  "kernelspec": {
   "display_name": "Python 3",
   "language": "python",
   "name": "python3"
  },
  "language_info": {
   "codemirror_mode": {
    "name": "ipython",
    "version": 3
   },
   "file_extension": ".py",
   "mimetype": "text/x-python",
   "name": "python",
   "nbconvert_exporter": "python",
   "pygments_lexer": "ipython3",
   "version": "3.6.5"
  }
 },
 "nbformat": 4,
 "nbformat_minor": 2
}
